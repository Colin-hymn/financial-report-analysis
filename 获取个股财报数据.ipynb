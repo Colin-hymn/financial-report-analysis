{
 "cells": [
  {
   "cell_type": "markdown",
   "id": "b15b6d97-57ef-4bc6-8542-3b90def45059",
   "metadata": {},
   "source": [
    "## 1. 编程目标\n",
    "编写本程序的目的旨在自动获取某家企业最近几年内的财务数据，并完成数据可视化。具体来说，可分为如下几步：\n",
    "\n",
    "1. 通过Akshare模块获取某一特定个股的财务数据，包括资产负债表、利润表和现金流量表；\n",
    "\n",
    "2. 编写一个模块使得特定年的财务数据表格能够直观的展示；\n",
    "\n",
    "\n",
    "3. 提取其中较为有意义的数据进行可视化\n",
    "\n",
    "   \n",
    "4. 计算特殊的指标变化情况。"
   ]
  },
  {
   "cell_type": "markdown",
   "id": "93bab5fd-70a0-4b0b-a112-462ed104c467",
   "metadata": {},
   "source": [
    "## 2. 获取某一个股的财报数据\n",
    "基于Akshare模块，通过同花顺网站获取数据。"
   ]
  },
  {
   "cell_type": "code",
   "execution_count": 2,
   "id": "cd7857e1-2f59-4f70-ad09-4317ebcc5f70",
   "metadata": {},
   "outputs": [],
   "source": [
    "import akshare as ak\n",
    "# 目标股票代码\n",
    "stock_code = '603986'"
   ]
  },
  {
   "cell_type": "markdown",
   "id": "60590116-62a9-4e53-9a2d-0288146fd3d1",
   "metadata": {},
   "source": [
    "同花顺数据库提供了**按照报告期、按照季度和按照年度**排列的财务数据，这里我们将分开获取不同时间跨度的财务信息。\n",
    "\n",
    "通过indicator关键字访问不同的时间跨度的财务信息。indicator=\"按报告期\"; choice of {\"按报告期\", \"按年度\", \"按单季度\"}"
   ]
  },
  {
   "cell_type": "markdown",
   "id": "43b4bd4f-7249-434c-9c91-e887a725c64a",
   "metadata": {},
   "source": [
    "### 2.1 利润表\n",
    "#### 按照年排序的利润表\n"
   ]
  },
  {
   "cell_type": "code",
   "execution_count": 5,
   "id": "1297f922-3219-40f5-953d-c86c47b03c49",
   "metadata": {},
   "outputs": [
    {
     "name": "stdout",
     "output_type": "stream",
     "text": [
      "     报告期 报表核心指标      *净利润  *营业总收入  *营业总成本 *归属于母公司所有者的净利润 *扣除非经常性损益后的净利润  \\\n",
      "0   2023            1.61亿  57.61亿  57.89亿          1.61亿       2740.06万   \n",
      "1   2022           20.53亿  81.30亿  60.31亿         20.53亿         19.10亿   \n",
      "2   2021           23.37亿  85.10亿  61.19亿         23.37亿         22.24亿   \n",
      "3   2020            8.80亿  44.97亿  39.53亿          8.81亿          5.55亿   \n",
      "4   2019            6.05亿  32.03亿  25.98亿          6.07亿          5.66亿   \n",
      "5   2018            4.04亿  22.46亿  18.58亿          4.05亿          3.61亿   \n",
      "6   2017            3.98亿  20.30亿  16.54亿          3.97亿          3.32亿   \n",
      "7   2016            1.75亿  14.89亿  13.28亿          1.76亿          1.51亿   \n",
      "8   2015            1.56亿  11.89亿  10.26亿          1.58亿          1.42亿   \n",
      "9   2014         9825.25万   9.47亿   8.61亿       9812.25万       7494.61万   \n",
      "10  2013         6735.04万   7.89亿   7.25亿       6735.04万       5796.35万   \n",
      "11  2012         6333.30万   8.35亿   7.58亿       6333.30万       6237.16万   \n",
      "12  2011         1787.53万   3.22亿   3.01亿       1787.53万       1418.75万   \n",
      "\n",
      "   报表全部指标 一、营业总收入 其中：营业收入  ...    少数股东损益 扣除非经常性损益后的净利润 六、每股收益 （一）基本每股收益  \\\n",
      "0          57.61亿  57.61亿  ...     False      2740.06万             0.24   \n",
      "1          81.30亿  81.30亿  ...     False        19.10亿             3.10   \n",
      "2          85.10亿  85.10亿  ...     False        22.24亿             3.54   \n",
      "3          44.97亿  44.97亿  ...   -21.09万         5.55亿             1.36   \n",
      "4          32.03亿  32.03亿  ...  -164.77万         5.66亿             1.44   \n",
      "5          22.46亿  22.46亿  ...  -102.88万         3.61亿             1.44   \n",
      "6          20.30亿  20.30亿  ...    12.82万         3.32亿             1.42   \n",
      "7          14.89亿  14.89亿  ...  -172.93万         1.51亿             1.06   \n",
      "8          11.89亿  11.89亿  ...  -181.17万         1.42亿             2.10   \n",
      "9           9.47亿   9.47亿  ...    12.99万      7494.61万             1.31   \n",
      "10          7.89亿   7.89亿  ...     False      5796.35万             0.90   \n",
      "11          8.35亿   8.35亿  ...     False      6237.16万             0.86   \n",
      "12          3.22亿   3.22亿  ...     False      1418.75万             0.29   \n",
      "\n",
      "   （二）稀释每股收益  七、其他综合收益 归属母公司所有者的其他综合收益  八、综合收益总额 归属于母公司股东的综合收益总额  \\\n",
      "0       0.24     1.81亿           1.81亿     3.42亿           3.42亿   \n",
      "1       3.09  4127.28万        4127.28万    20.94亿          20.94亿   \n",
      "2       3.53     3.31亿           3.31亿    26.68亿          26.68亿   \n",
      "3       1.36     1.87亿           1.87亿    10.68亿          10.68亿   \n",
      "4       1.44     2.45亿           2.45亿     8.50亿           8.52亿   \n",
      "5       1.43    -2.74亿          -2.74亿     1.30亿           1.31亿   \n",
      "6       1.41     1.01亿           1.01亿     4.99亿           4.99亿   \n",
      "7       1.06  1076.67万        1088.38万     1.85亿           1.87亿   \n",
      "8       2.10   812.19万         812.19万     1.64亿           1.66亿   \n",
      "9       1.31    27.53万          27.53万  9852.77万        9839.78万   \n",
      "10      0.90  -269.70万        -269.70万  6465.35万        6465.35万   \n",
      "11      0.86    14.48万           False  6347.78万           False   \n",
      "12      0.29  -176.51万           False  1611.02万           False   \n",
      "\n",
      "   归属于少数股东的综合收益总额  \n",
      "0           False  \n",
      "1           False  \n",
      "2           False  \n",
      "3         -21.09万  \n",
      "4        -164.77万  \n",
      "5        -102.88万  \n",
      "6          16.17万  \n",
      "7        -184.64万  \n",
      "8        -181.17万  \n",
      "9          12.99万  \n",
      "10          False  \n",
      "11          False  \n",
      "12          False  \n",
      "\n",
      "[13 rows x 45 columns]\n"
     ]
    }
   ],
   "source": [
    "benefit_ths_df = ak.stock_financial_benefit_ths(symbol=stock_code, indicator=\"按年度\")\n",
    "print(benefit_ths_df)"
   ]
  },
  {
   "cell_type": "markdown",
   "id": "d894bf26-2349-489f-9a57-d8b91e0f33e9",
   "metadata": {},
   "source": [
    "现在让我们看一看利润表包含哪些栏目"
   ]
  },
  {
   "cell_type": "code",
   "execution_count": 6,
   "id": "400a29eb-5425-42b5-970b-de329a935ddb",
   "metadata": {},
   "outputs": [
    {
     "data": {
      "text/plain": [
       "Index(['报告期', '报表核心指标', '*净利润', '*营业总收入', '*营业总成本', '*归属于母公司所有者的净利润',\n",
       "       '*扣除非经常性损益后的净利润', '报表全部指标', '一、营业总收入', '其中：营业收入', '二、营业总成本', '其中：营业成本',\n",
       "       '营业税金及附加', '销售费用', '管理费用', '研发费用', '财务费用', '其中：利息费用', '利息收入', '资产减值损失',\n",
       "       '信用减值损失', '加：公允价值变动收益', '投资收益', '其中：联营企业和合营企业的投资收益', '资产处置收益', '其他收益',\n",
       "       '三、营业利润', '加：营业外收入', '减：营业外支出', '其中：非流动资产处置损失', '四、利润总额', '减：所得税费用',\n",
       "       '五、净利润', '（一）持续经营净利润', '归属于母公司所有者的净利润', '少数股东损益', '扣除非经常性损益后的净利润',\n",
       "       '六、每股收益', '（一）基本每股收益', '（二）稀释每股收益', '七、其他综合收益', '归属母公司所有者的其他综合收益',\n",
       "       '八、综合收益总额', '归属于母公司股东的综合收益总额', '归属于少数股东的综合收益总额'],\n",
       "      dtype='object')"
      ]
     },
     "execution_count": 6,
     "metadata": {},
     "output_type": "execute_result"
    }
   ],
   "source": [
    "import pandas as pd\n",
    "pd.set_option('display.max_columns', None)\n",
    "benefit_ths_df.columns"
   ]
  },
  {
   "cell_type": "markdown",
   "id": "5876a9a8-441a-461b-934f-72ab29d6bd7d",
   "metadata": {},
   "source": [
    "先画个直方图看看，不过在这之前，需要将数据转化一下。"
   ]
  },
  {
   "cell_type": "code",
   "execution_count": 28,
   "id": "42572135-6afb-44f3-afd8-6dbf92d2255a",
   "metadata": {},
   "outputs": [
    {
     "data": {
      "text/plain": [
       "0     0.24\n",
       "1     3.09\n",
       "2     3.53\n",
       "3     1.36\n",
       "4     1.44\n",
       "5     1.43\n",
       "6     1.41\n",
       "7     1.06\n",
       "8     2.10\n",
       "9     1.31\n",
       "10    0.90\n",
       "11    0.86\n",
       "12    0.29\n",
       "Name: （二）稀释每股收益, dtype: object"
      ]
     },
     "execution_count": 28,
     "metadata": {},
     "output_type": "execute_result"
    }
   ],
   "source": [
    "def money_str_to_float(money_str):\n",
    "    if type(money_str)==str:\n",
    "        if '万' in money_str:\n",
    "            return float(money_str.replace('万', '')) * 1\n",
    "        elif '亿' in money_str:\n",
    "            return float(money_str.replace('亿', '')) * 10000\n",
    "        else:\n",
    "            return money_str\n",
    "    else:\n",
    "        return money_str\n",
    "\n",
    "benefit_df_yearly = benefit_ths_df.map(money_str_to_float)\n",
    "benefit_df_yearly['（二）稀释每股收益']"
   ]
  },
  {
   "cell_type": "code",
   "execution_count": 29,
   "id": "55d8c774-b912-4e85-94d1-22a292a8394a",
   "metadata": {},
   "outputs": [],
   "source": [
    "from pyecharts import options as opts\n",
    "from pyecharts.charts import Bar\n",
    "\n",
    "c = (\n",
    "    Bar()\n",
    "    .add_xaxis([str(x) for x in benefit_df_yearly['报告期'].to_list()\n",
    "               ])\n",
    "    .add_yaxis(\"营业总收入\",  benefit_df_yearly['*营业总收入'].to_list())\n",
    "    .add_yaxis(\"净利润\", benefit_df_yearly['*净利润'].to_list())\n",
    "    .set_global_opts(\n",
    "        xaxis_opts=opts.AxisOpts(axislabel_opts=opts.LabelOpts(rotate=-15)),\n",
    "        title_opts=opts.TitleOpts(title=\"Bar-旋转X轴标签\", subtitle=\"解决标签名字过长的问题\"),\n",
    "    )\n",
    "    .render(\"bar_rotate_xaxis_label.html\")\n",
    ")\n"
   ]
  },
  {
   "cell_type": "code",
   "execution_count": null,
   "id": "f8ddbf2c-bd49-4795-aafb-c6dc0161f86a",
   "metadata": {},
   "outputs": [],
   "source": []
  }
 ],
 "metadata": {
  "kernelspec": {
   "display_name": "Python 3 (ipykernel)",
   "language": "python",
   "name": "python3"
  },
  "language_info": {
   "codemirror_mode": {
    "name": "ipython",
    "version": 3
   },
   "file_extension": ".py",
   "mimetype": "text/x-python",
   "name": "python",
   "nbconvert_exporter": "python",
   "pygments_lexer": "ipython3",
   "version": "3.12.4"
  }
 },
 "nbformat": 4,
 "nbformat_minor": 5
}
